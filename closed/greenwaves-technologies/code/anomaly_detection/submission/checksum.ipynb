{
 "cells": [
  {
   "cell_type": "code",
   "execution_count": 1,
   "id": "c2f2ffb5-110f-42bb-8b12-82d250603073",
   "metadata": {},
   "outputs": [
    {
     "name": "stderr",
     "output_type": "stream",
     "text": [
      "/home/marco-gwt/anaconda3/envs/nntool/lib/python3.8/site-packages/sklearn/utils/multiclass.py:13: DeprecationWarning: Please use `spmatrix` from the `scipy.sparse` namespace, the `scipy.sparse.base` namespace is deprecated.\n",
      "  from scipy.sparse.base import spmatrix\n",
      "/home/marco-gwt/anaconda3/envs/nntool/lib/python3.8/site-packages/sklearn/linear_model/least_angle.py:30: DeprecationWarning: `np.float` is a deprecated alias for the builtin `float`. To silence this warning, use `float` by itself. Doing this will not modify any behavior and is safe. If you specifically wanted the numpy scalar type, use `np.float64` here.\n",
      "Deprecated in NumPy 1.20; for more details and guidance: https://numpy.org/devdocs/release/1.20.0-notes.html#deprecations\n",
      "  method='lar', copy_X=True, eps=np.finfo(np.float).eps,\n",
      "/home/marco-gwt/anaconda3/envs/nntool/lib/python3.8/site-packages/sklearn/linear_model/least_angle.py:167: DeprecationWarning: `np.float` is a deprecated alias for the builtin `float`. To silence this warning, use `float` by itself. Doing this will not modify any behavior and is safe. If you specifically wanted the numpy scalar type, use `np.float64` here.\n",
      "Deprecated in NumPy 1.20; for more details and guidance: https://numpy.org/devdocs/release/1.20.0-notes.html#deprecations\n",
      "  method='lar', copy_X=True, eps=np.finfo(np.float).eps,\n",
      "/home/marco-gwt/anaconda3/envs/nntool/lib/python3.8/site-packages/sklearn/linear_model/least_angle.py:284: DeprecationWarning: `np.float` is a deprecated alias for the builtin `float`. To silence this warning, use `float` by itself. Doing this will not modify any behavior and is safe. If you specifically wanted the numpy scalar type, use `np.float64` here.\n",
      "Deprecated in NumPy 1.20; for more details and guidance: https://numpy.org/devdocs/release/1.20.0-notes.html#deprecations\n",
      "  eps=np.finfo(np.float).eps, copy_Gram=True, verbose=0,\n",
      "/home/marco-gwt/anaconda3/envs/nntool/lib/python3.8/site-packages/sklearn/linear_model/least_angle.py:862: DeprecationWarning: `np.float` is a deprecated alias for the builtin `float`. To silence this warning, use `float` by itself. Doing this will not modify any behavior and is safe. If you specifically wanted the numpy scalar type, use `np.float64` here.\n",
      "Deprecated in NumPy 1.20; for more details and guidance: https://numpy.org/devdocs/release/1.20.0-notes.html#deprecations\n",
      "  eps=np.finfo(np.float).eps, copy_X=True, fit_path=True,\n",
      "/home/marco-gwt/anaconda3/envs/nntool/lib/python3.8/site-packages/sklearn/linear_model/least_angle.py:1101: DeprecationWarning: `np.float` is a deprecated alias for the builtin `float`. To silence this warning, use `float` by itself. Doing this will not modify any behavior and is safe. If you specifically wanted the numpy scalar type, use `np.float64` here.\n",
      "Deprecated in NumPy 1.20; for more details and guidance: https://numpy.org/devdocs/release/1.20.0-notes.html#deprecations\n",
      "  eps=np.finfo(np.float).eps, copy_X=True, fit_path=True,\n",
      "/home/marco-gwt/anaconda3/envs/nntool/lib/python3.8/site-packages/sklearn/linear_model/least_angle.py:1127: DeprecationWarning: `np.float` is a deprecated alias for the builtin `float`. To silence this warning, use `float` by itself. Doing this will not modify any behavior and is safe. If you specifically wanted the numpy scalar type, use `np.float64` here.\n",
      "Deprecated in NumPy 1.20; for more details and guidance: https://numpy.org/devdocs/release/1.20.0-notes.html#deprecations\n",
      "  eps=np.finfo(np.float).eps, positive=False):\n",
      "/home/marco-gwt/anaconda3/envs/nntool/lib/python3.8/site-packages/sklearn/linear_model/least_angle.py:1362: DeprecationWarning: `np.float` is a deprecated alias for the builtin `float`. To silence this warning, use `float` by itself. Doing this will not modify any behavior and is safe. If you specifically wanted the numpy scalar type, use `np.float64` here.\n",
      "Deprecated in NumPy 1.20; for more details and guidance: https://numpy.org/devdocs/release/1.20.0-notes.html#deprecations\n",
      "  max_n_alphas=1000, n_jobs=None, eps=np.finfo(np.float).eps,\n",
      "/home/marco-gwt/anaconda3/envs/nntool/lib/python3.8/site-packages/sklearn/linear_model/least_angle.py:1602: DeprecationWarning: `np.float` is a deprecated alias for the builtin `float`. To silence this warning, use `float` by itself. Doing this will not modify any behavior and is safe. If you specifically wanted the numpy scalar type, use `np.float64` here.\n",
      "Deprecated in NumPy 1.20; for more details and guidance: https://numpy.org/devdocs/release/1.20.0-notes.html#deprecations\n",
      "  max_n_alphas=1000, n_jobs=None, eps=np.finfo(np.float).eps,\n",
      "/home/marco-gwt/anaconda3/envs/nntool/lib/python3.8/site-packages/sklearn/linear_model/least_angle.py:1738: DeprecationWarning: `np.float` is a deprecated alias for the builtin `float`. To silence this warning, use `float` by itself. Doing this will not modify any behavior and is safe. If you specifically wanted the numpy scalar type, use `np.float64` here.\n",
      "Deprecated in NumPy 1.20; for more details and guidance: https://numpy.org/devdocs/release/1.20.0-notes.html#deprecations\n",
      "  eps=np.finfo(np.float).eps, copy_X=True, positive=False):\n",
      "/home/marco-gwt/anaconda3/envs/nntool/lib/python3.8/site-packages/sklearn/utils/optimize.py:18: DeprecationWarning: Please use `line_search_wolfe2` from the `scipy.optimize` namespace, the `scipy.optimize.linesearch` namespace is deprecated.\n",
      "  from scipy.optimize.linesearch import line_search_wolfe2, line_search_wolfe1\n",
      "/home/marco-gwt/anaconda3/envs/nntool/lib/python3.8/site-packages/sklearn/utils/optimize.py:18: DeprecationWarning: Please use `line_search_wolfe1` from the `scipy.optimize` namespace, the `scipy.optimize.linesearch` namespace is deprecated.\n",
      "  from scipy.optimize.linesearch import line_search_wolfe2, line_search_wolfe1\n",
      "/home/marco-gwt/anaconda3/envs/nntool/lib/python3.8/site-packages/sklearn/decomposition/online_lda.py:29: DeprecationWarning: `np.float` is a deprecated alias for the builtin `float`. To silence this warning, use `float` by itself. Doing this will not modify any behavior and is safe. If you specifically wanted the numpy scalar type, use `np.float64` here.\n",
      "Deprecated in NumPy 1.20; for more details and guidance: https://numpy.org/devdocs/release/1.20.0-notes.html#deprecations\n",
      "  EPS = np.finfo(np.float).eps\n"
     ]
    }
   ],
   "source": [
    "import os\n",
    "from nntool.api import NNGraph\n",
    "from nntool.graph.types import ConstantInputNode\n",
    "import numpy as np"
   ]
  },
  {
   "cell_type": "code",
   "execution_count": 13,
   "id": "008aea34-7933-467e-a424-0f9e059fef37",
   "metadata": {},
   "outputs": [
    {
     "name": "stdout",
     "output_type": "stream",
     "text": [
      "settings - set log level to INFO\n",
      "log_level - was: 'INFO'\n",
      "now: 'INFO'\n",
      "open - opening graph file BUILD_MODEL_NE16_QUANT/ad01.tflite load_quantization = True\n",
      "tflite - Importing TFLITE model version 3\n",
      "nngraph - update graph dimensions\n",
      "nngraph - update graph dimensions\n",
      "unified_quantization_handler - indicating change of FULLY_CONNECTED_0_0 input from c, out_cin_c, out_c to chw, out_cin_chw, out_c order - rerun adjust command\n",
      "unified_quantization_handler - indicating change of FULLY_CONNECTED_0_0 output from c to chw order - rerun adjust command\n",
      "unified_quantization_handler - indicating change of FULLY_CONNECTED_0_1 input from c, out_cin_c, out_c to chw, out_cin_chw, out_c order - rerun adjust command\n",
      "unified_quantization_handler - indicating change of FULLY_CONNECTED_0_1 output from c to chw order - rerun adjust command\n",
      "unified_quantization_handler - indicating change of FULLY_CONNECTED_0_2 input from c, out_cin_c, out_c to chw, out_cin_chw, out_c order - rerun adjust command\n",
      "unified_quantization_handler - indicating change of FULLY_CONNECTED_0_2 output from c to chw order - rerun adjust command\n",
      "unified_quantization_handler - indicating change of FULLY_CONNECTED_0_3 input from c, out_cin_c, out_c to chw, out_cin_chw, out_c order - rerun adjust command\n",
      "unified_quantization_handler - indicating change of FULLY_CONNECTED_0_3 output from c to chw order - rerun adjust command\n",
      "unified_quantization_handler - indicating change of FULLY_CONNECTED_0_4 input from c, out_cin_c, out_c to chw, out_cin_chw, out_c order - rerun adjust command\n",
      "unified_quantization_handler - indicating change of FULLY_CONNECTED_0_4 output from c to chw order - rerun adjust command\n",
      "unified_quantization_handler - indicating change of FULLY_CONNECTED_0_5 input from c, out_cin_c, out_c to chw, out_cin_chw, out_c order - rerun adjust command\n",
      "unified_quantization_handler - indicating change of FULLY_CONNECTED_0_5 output from c to chw order - rerun adjust command\n",
      "unified_quantization_handler - indicating change of FULLY_CONNECTED_0_6 input from c, out_cin_c, out_c to chw, out_cin_chw, out_c order - rerun adjust command\n",
      "unified_quantization_handler - indicating change of FULLY_CONNECTED_0_6 output from c to chw order - rerun adjust command\n",
      "unified_quantization_handler - indicating change of FULLY_CONNECTED_0_7 input from c, out_cin_c, out_c to chw, out_cin_chw, out_c order - rerun adjust command\n",
      "unified_quantization_handler - indicating change of FULLY_CONNECTED_0_7 output from c to chw order - rerun adjust command\n",
      "unified_quantization_handler - indicating change of FULLY_CONNECTED_0_8 input from c, out_cin_c, out_c to chw, out_cin_chw, out_c order - rerun adjust command\n",
      "unified_quantization_handler - indicating change of FULLY_CONNECTED_0_8 output from c to chw order - rerun adjust command\n",
      "unified_quantization_handler - indicating change of FULLY_CONNECTED_0_9 input from c, out_cin_c, out_c to chw, out_cin_chw, out_c order - rerun adjust command\n",
      "unified_quantization_handler - indicating change of FULLY_CONNECTED_0_9 output from c to chw order - rerun adjust command\n",
      "nngraph - update graph dimensions\n",
      "nngraph - update graph dimensions\n",
      "nngraph - update graph dimensions\n",
      "nngraph - update graph dimensions\n",
      "settings - set log level to INFO\n",
      "log_level - was: 'INFO'\n",
      "now: 'INFO'\n",
      "unified_quantization_handler - indicating change of FULLY_CONNECTED_0_0 input from chw, out_cin_chw, out_c to hwc, out_cin_chw, out_c order - rerun adjust command\n",
      "unified_quantization_handler - indicating change of FULLY_CONNECTED_0_0 output from chw to hwc order - rerun adjust command\n",
      "unified_quantization_handler - indicating change of FULLY_CONNECTED_0_1 input from chw, out_cin_chw, out_c to hwc, out_cin_chw, out_c order - rerun adjust command\n",
      "unified_quantization_handler - indicating change of FULLY_CONNECTED_0_1 output from chw to hwc order - rerun adjust command\n",
      "unified_quantization_handler - indicating change of FULLY_CONNECTED_0_2 input from chw, out_cin_chw, out_c to hwc, out_cin_chw, out_c order - rerun adjust command\n",
      "unified_quantization_handler - indicating change of FULLY_CONNECTED_0_2 output from chw to hwc order - rerun adjust command\n",
      "unified_quantization_handler - indicating change of FULLY_CONNECTED_0_3 input from chw, out_cin_chw, out_c to hwc, out_cin_chw, out_c order - rerun adjust command\n",
      "unified_quantization_handler - indicating change of FULLY_CONNECTED_0_3 output from chw to hwc order - rerun adjust command\n",
      "nngraph - update graph dimensions\n",
      "quantization options set\n",
      "unified_quantization_handler - indicating change of FULLY_CONNECTED_0_4 input from chw, out_cin_chw, out_c to hwc, out_chwin_c, out_c order - rerun adjust command\n",
      "unified_quantization_handler - indicating change of FULLY_CONNECTED_0_4 output from chw to hwc order - rerun adjust command\n",
      "nngraph - update graph dimensions\n",
      "quantization options set\n",
      "unified_quantization_handler - indicating change of FULLY_CONNECTED_0_5 input from chw, out_cin_chw, out_c to hwc, out_cin_chw, out_c order - rerun adjust command\n",
      "unified_quantization_handler - indicating change of FULLY_CONNECTED_0_5 output from chw to hwc order - rerun adjust command\n",
      "unified_quantization_handler - indicating change of FULLY_CONNECTED_0_6 input from chw, out_cin_chw, out_c to hwc, out_cin_chw, out_c order - rerun adjust command\n",
      "unified_quantization_handler - indicating change of FULLY_CONNECTED_0_6 output from chw to hwc order - rerun adjust command\n",
      "unified_quantization_handler - indicating change of FULLY_CONNECTED_0_7 input from chw, out_cin_chw, out_c to hwc, out_cin_chw, out_c order - rerun adjust command\n",
      "unified_quantization_handler - indicating change of FULLY_CONNECTED_0_7 output from chw to hwc order - rerun adjust command\n",
      "unified_quantization_handler - indicating change of FULLY_CONNECTED_0_8 input from chw, out_cin_chw, out_c to hwc, out_cin_chw, out_c order - rerun adjust command\n",
      "unified_quantization_handler - indicating change of FULLY_CONNECTED_0_8 output from chw to hwc order - rerun adjust command\n",
      "unified_quantization_handler - indicating change of FULLY_CONNECTED_0_9 input from chw, out_cin_chw, out_c to hwc, out_cin_chw, out_c order - rerun adjust command\n",
      "unified_quantization_handler - indicating change of FULLY_CONNECTED_0_9 output from chw to hwc order - rerun adjust command\n",
      "nngraph - update graph dimensions\n",
      "quantization options set\n",
      "fuse_gap_convs - fusing nodes FULLY_CONNECTED_0_0,FULLY_CONNECTED_0_0_activation into FULLY_CONNECTED_0_0_fusion\n",
      "fuse_gap_convs - fusing nodes FULLY_CONNECTED_0_1,FULLY_CONNECTED_0_1_activation into FULLY_CONNECTED_0_1_fusion\n",
      "fuse_gap_convs - fusing nodes FULLY_CONNECTED_0_2,FULLY_CONNECTED_0_2_activation into FULLY_CONNECTED_0_2_fusion\n",
      "fuse_gap_convs - fusing nodes FULLY_CONNECTED_0_3,FULLY_CONNECTED_0_3_activation into FULLY_CONNECTED_0_3_fusion\n",
      "fuse_gap_convs - fusing nodes FULLY_CONNECTED_0_4,FULLY_CONNECTED_0_4_activation into FULLY_CONNECTED_0_4_fusion\n",
      "fuse_gap_convs - fusing nodes FULLY_CONNECTED_0_5,FULLY_CONNECTED_0_5_activation into FULLY_CONNECTED_0_5_fusion\n",
      "fuse_gap_convs - fusing nodes FULLY_CONNECTED_0_6,FULLY_CONNECTED_0_6_activation into FULLY_CONNECTED_0_6_fusion\n",
      "fuse_gap_convs - fusing nodes FULLY_CONNECTED_0_7,FULLY_CONNECTED_0_7_activation into FULLY_CONNECTED_0_7_fusion\n",
      "fuse_gap_convs - fusing nodes FULLY_CONNECTED_0_8,FULLY_CONNECTED_0_8_activation into FULLY_CONNECTED_0_8_fusion\n",
      "matcher - ++ fusion fuse_gap_linear modified graph\n",
      "matcher - ++ fusion scaled_match_group modified graph\n",
      "nngraph - update graph dimensions\n",
      "adjust_order - adding transposes to correct tensor order for AT kernels\n",
      "eliminate_transposes - no transposes to eliminate found\n",
      "nngraph - update graph dimensions\n",
      "nngraph - update graph dimensions\n",
      "eliminate_transposes - no further transpose sequences found\n",
      "nngraph - adjusted order\n",
      "adjust_order - adding transposes to correct tensor order for AT kernels\n",
      "eliminate_transposes - no transposes to eliminate found\n",
      "nngraph - update graph dimensions\n",
      "nngraph - update graph dimensions\n",
      "eliminate_transposes - no further transpose sequences found\n",
      "nngraph - adjusted order\n",
      "nngraph - update graph dimensions\n",
      "graph_checksum - was: 0\n",
      "now: 1\n",
      "graph_produce_node_names - was: False\n",
      "now: True\n",
      "graph_produce_operinfos - was: False\n",
      "now: True\n",
      "graph_monitor_cycles - was: False\n",
      "now: True\n",
      "l3_flash_device - was: 'AT_MEM_L3_HFLASH'\n",
      "now: 'AT_MEM_L3_MRAMFLASH'\n",
      "l3_ram_device - was: 'AT_MEM_L3_HRAM'\n",
      "now: 'AT_MEM_L3_DEFAULTRAM'\n"
     ]
    }
   ],
   "source": [
    "G = NNGraph.load_graph(\"BUILD_MODEL_NE16_QUANT/ad01.json\")"
   ]
  },
  {
   "cell_type": "code",
   "execution_count": 14,
   "id": "83b84f5c-d3d5-43c6-9986-4ba42c2522ee",
   "metadata": {},
   "outputs": [],
   "source": [
    "dat = np.fromfile(\"../datasets/perf_samples/anomaly_id_01_00000003_hist_librosa.bin\", dtype=np.float32)"
   ]
  },
  {
   "cell_type": "code",
   "execution_count": 15,
   "id": "95526953-f9e6-4578-9f9b-92212eb75c9e",
   "metadata": {},
   "outputs": [],
   "source": [
    "win_len = int(int(2560) / 4) #row[3]\n",
    "stride = int(int(512) / 4) #row[4]\n",
    "sz, = dat.shape\n",
    "num_wind = int((sz - win_len + stride) / stride)\n",
    "win_data = np.zeros( (num_wind, win_len), dtype=np.float32)"
   ]
  },
  {
   "cell_type": "code",
   "execution_count": 16,
   "id": "5809d6ec-5176-4108-aeb3-64536f8dcd5d",
   "metadata": {},
   "outputs": [
    {
     "name": "stdout",
     "output_type": "stream",
     "text": [
      "input_1:\n",
      "\t-11550\n",
      "FULLY_CONNECTED_0_0_fusion:\n",
      "\t1194\n",
      "FULLY_CONNECTED_0_1_fusion:\n",
      "\t463\n",
      "FULLY_CONNECTED_0_2_fusion:\n",
      "\t1334\n",
      "FULLY_CONNECTED_0_3_fusion:\n",
      "\t978\n",
      "FULLY_CONNECTED_0_4_fusion_qin0:\n",
      "\t-15406\n",
      "FULLY_CONNECTED_0_4_fusion:\n",
      "\t-177\n",
      "FULLY_CONNECTED_0_5_fusion_qin0:\n",
      "\t335\n",
      "FULLY_CONNECTED_0_5_fusion:\n",
      "\t1359\n",
      "FULLY_CONNECTED_0_6_fusion:\n",
      "\t1380\n",
      "FULLY_CONNECTED_0_7_fusion:\n",
      "\t1620\n",
      "FULLY_CONNECTED_0_8_fusion:\n",
      "\t3979\n",
      "FULLY_CONNECTED_0_9:\n",
      "\t54157\n",
      "output_1:\n",
      "\t54157\n"
     ]
    }
   ],
   "source": [
    "win_data[0:1, :] = dat[0*stride:0*stride+win_len]\n",
    "output = G.execute([win_data[0:0+1, :]], dequantize=False, quantize=True)\n",
    "for i, out in enumerate(output):\n",
    "    if isinstance(G[i], ConstantInputNode):\n",
    "        continue\n",
    "    print(f\"{G[i].name}:\\n\\t{np.sum(out[0].astype(np.int8))}\")"
   ]
  },
  {
   "cell_type": "code",
   "execution_count": 12,
   "id": "3cab6b96-00e6-4ae4-9f3a-616d8a41e47e",
   "metadata": {},
   "outputs": [
    {
     "name": "stdout",
     "output_type": "stream",
     "text": [
      "[ 2  4  0  0 41 58  0  0  0  0  0  0  8  7 10  0 16  0  0  0  0 35  0  1\n",
      "  0  0 25  0 35  0  0 21  0  0  0  0  9 12  0  0 46  0 16  0  0 34 10  0\n",
      "  0 27 36  0  0  0  9  0  0  0  0 29 62  0  5  7  0  0 33  0  2  0 13 24\n",
      "  0  0  0  3 24  4  0  2 25 15  0  0  0  0  0 17  0 27  0  0  0 16  0  0\n",
      " 20  0  0  0  0  0  0  0  0  0 43  0  0 23  0  9  0  0  0 41  0  0  0  2\n",
      " 22  0 14  0  0 15  0 19]\n"
     ]
    }
   ],
   "source": [
    "print(output[12][0].astype(np.int8))"
   ]
  },
  {
   "cell_type": "code",
   "execution_count": 7,
   "id": "80ab9324-df82-4191-9f73-ffa9a798240d",
   "metadata": {},
   "outputs": [
    {
     "name": "stdout",
     "output_type": "stream",
     "text": [
      "[ 108  -92 -124   97   75   81  113   78]\n"
     ]
    }
   ],
   "source": [
    "print(output[15][0].astype(np.int8))"
   ]
  },
  {
   "cell_type": "code",
   "execution_count": null,
   "id": "20ab569d-9013-44a9-8366-fe8fdff40177",
   "metadata": {},
   "outputs": [],
   "source": []
  }
 ],
 "metadata": {
  "kernelspec": {
   "display_name": "Python 3 (ipykernel)",
   "language": "python",
   "name": "python3"
  },
  "language_info": {
   "codemirror_mode": {
    "name": "ipython",
    "version": 3
   },
   "file_extension": ".py",
   "mimetype": "text/x-python",
   "name": "python",
   "nbconvert_exporter": "python",
   "pygments_lexer": "ipython3",
   "version": "3.8.13"
  }
 },
 "nbformat": 4,
 "nbformat_minor": 5
}
